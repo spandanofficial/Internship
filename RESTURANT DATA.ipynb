{
 "cells": [
  {
   "cell_type": "code",
   "execution_count": 108,
   "metadata": {},
   "outputs": [],
   "source": [
    "import pandas as pd\n",
    "import numpy as np\n",
    "import seaborn as sns\n",
    "import matplotlib\n",
    "import matplotlib.pyplot as plt\n",
    "import warnings\n",
    "warnings.filterwarnings('ignore')\n",
    "from sklearn.preprocessing import StandardScaler\n",
    "from sklearn.linear_model import LinearRegression\n",
    "from sklearn.neighbors import KNeighborsRegressor\n",
    "from sklearn.tree import DecisionTreeRegressor\n",
    "from sklearn.ensemble import RandomForestRegressor\n",
    "from sklearn.model_selection import train_test_split\n",
    "from sklearn.metrics import mean_absolute_error,mean_squared_error\n",
    "from sklearn.ensemble import GradientBoostingRegressor,ExtraTreesRegressor\n",
    "from sklearn.svm import SVR\n",
    "from sklearn.linear_model import Lasso,LassoCV,Ridge,RidgeCV\n",
    "from scipy.stats import zscore\n",
    "from statsmodels.stats.outliers_influence import variance_inflation_factor\n",
    "from sklearn.metrics import r2_score\n",
    "from sklearn.model_selection import cross_val_score\n",
    "import pickle"
   ]
  },
  {
   "cell_type": "code",
   "execution_count": 109,
   "metadata": {},
   "outputs": [
    {
     "data": {
      "text/html": [
       "<div>\n",
       "<style scoped>\n",
       "    .dataframe tbody tr th:only-of-type {\n",
       "        vertical-align: middle;\n",
       "    }\n",
       "\n",
       "    .dataframe tbody tr th {\n",
       "        vertical-align: top;\n",
       "    }\n",
       "\n",
       "    .dataframe thead th {\n",
       "        text-align: right;\n",
       "    }\n",
       "</style>\n",
       "<table border=\"1\" class=\"dataframe\">\n",
       "  <thead>\n",
       "    <tr style=\"text-align: right;\">\n",
       "      <th></th>\n",
       "      <th>TITLE</th>\n",
       "      <th>RESTAURANT_ID</th>\n",
       "      <th>CUISINES</th>\n",
       "      <th>TIME</th>\n",
       "      <th>CITY</th>\n",
       "      <th>LOCALITY</th>\n",
       "      <th>RATING</th>\n",
       "      <th>VOTES</th>\n",
       "      <th>COST</th>\n",
       "    </tr>\n",
       "  </thead>\n",
       "  <tbody>\n",
       "    <tr>\n",
       "      <th>0</th>\n",
       "      <td>CASUAL DINING</td>\n",
       "      <td>9438</td>\n",
       "      <td>Malwani, Goan, North Indian</td>\n",
       "      <td>11am – 4pm, 7:30pm – 11:30pm (Mon-Sun)</td>\n",
       "      <td>Thane</td>\n",
       "      <td>Dombivali East</td>\n",
       "      <td>3.6</td>\n",
       "      <td>49 votes</td>\n",
       "      <td>1200</td>\n",
       "    </tr>\n",
       "    <tr>\n",
       "      <th>1</th>\n",
       "      <td>CASUAL DINING,BAR</td>\n",
       "      <td>13198</td>\n",
       "      <td>Asian, Modern Indian, Japanese</td>\n",
       "      <td>6pm – 11pm (Mon-Sun)</td>\n",
       "      <td>Chennai</td>\n",
       "      <td>Ramapuram</td>\n",
       "      <td>4.2</td>\n",
       "      <td>30 votes</td>\n",
       "      <td>1500</td>\n",
       "    </tr>\n",
       "    <tr>\n",
       "      <th>2</th>\n",
       "      <td>CASUAL DINING</td>\n",
       "      <td>10915</td>\n",
       "      <td>North Indian, Chinese, Biryani, Hyderabadi</td>\n",
       "      <td>11am – 3:30pm, 7pm – 11pm (Mon-Sun)</td>\n",
       "      <td>Chennai</td>\n",
       "      <td>Saligramam</td>\n",
       "      <td>3.8</td>\n",
       "      <td>221 votes</td>\n",
       "      <td>800</td>\n",
       "    </tr>\n",
       "    <tr>\n",
       "      <th>3</th>\n",
       "      <td>QUICK BITES</td>\n",
       "      <td>6346</td>\n",
       "      <td>Tibetan, Chinese</td>\n",
       "      <td>11:30am – 1am (Mon-Sun)</td>\n",
       "      <td>Mumbai</td>\n",
       "      <td>Bandra West</td>\n",
       "      <td>4.1</td>\n",
       "      <td>24 votes</td>\n",
       "      <td>800</td>\n",
       "    </tr>\n",
       "    <tr>\n",
       "      <th>4</th>\n",
       "      <td>DESSERT PARLOR</td>\n",
       "      <td>15387</td>\n",
       "      <td>Desserts</td>\n",
       "      <td>11am – 1am (Mon-Sun)</td>\n",
       "      <td>Mumbai</td>\n",
       "      <td>Lower Parel</td>\n",
       "      <td>3.8</td>\n",
       "      <td>165 votes</td>\n",
       "      <td>300</td>\n",
       "    </tr>\n",
       "  </tbody>\n",
       "</table>\n",
       "</div>"
      ],
      "text/plain": [
       "               TITLE  RESTAURANT_ID  \\\n",
       "0      CASUAL DINING           9438   \n",
       "1  CASUAL DINING,BAR          13198   \n",
       "2      CASUAL DINING          10915   \n",
       "3        QUICK BITES           6346   \n",
       "4     DESSERT PARLOR          15387   \n",
       "\n",
       "                                     CUISINES  \\\n",
       "0                 Malwani, Goan, North Indian   \n",
       "1              Asian, Modern Indian, Japanese   \n",
       "2  North Indian, Chinese, Biryani, Hyderabadi   \n",
       "3                            Tibetan, Chinese   \n",
       "4                                    Desserts   \n",
       "\n",
       "                                     TIME     CITY        LOCALITY RATING  \\\n",
       "0  11am – 4pm, 7:30pm – 11:30pm (Mon-Sun)    Thane  Dombivali East    3.6   \n",
       "1                    6pm – 11pm (Mon-Sun)  Chennai       Ramapuram    4.2   \n",
       "2     11am – 3:30pm, 7pm – 11pm (Mon-Sun)  Chennai      Saligramam    3.8   \n",
       "3                 11:30am – 1am (Mon-Sun)   Mumbai     Bandra West    4.1   \n",
       "4                    11am – 1am (Mon-Sun)   Mumbai     Lower Parel    3.8   \n",
       "\n",
       "       VOTES  COST  \n",
       "0   49 votes  1200  \n",
       "1   30 votes  1500  \n",
       "2  221 votes   800  \n",
       "3   24 votes   800  \n",
       "4  165 votes   300  "
      ]
     },
     "execution_count": 109,
     "metadata": {},
     "output_type": "execute_result"
    }
   ],
   "source": [
    "df=pd.read_excel('C:/Users/Admin/OneDrive/Desktop/EDUCATION/DATA SET_DATATRAINED/RESURANT DATA SET/Data_Train.xlsx')\n",
    "df.head()"
   ]
  },
  {
   "cell_type": "code",
   "execution_count": 110,
   "metadata": {},
   "outputs": [
    {
     "name": "stdout",
     "output_type": "stream",
     "text": [
      "(12690, 9)/////Index(['TITLE', 'RESTAURANT_ID', 'CUISINES', 'TIME', 'CITY', 'LOCALITY',\n",
      "       'RATING', 'VOTES', 'COST'],\n",
      "      dtype='object')/////TITLE            object\n",
      "RESTAURANT_ID     int64\n",
      "CUISINES         object\n",
      "TIME             object\n",
      "CITY             object\n",
      "LOCALITY         object\n",
      "RATING           object\n",
      "VOTES            object\n",
      "COST              int64\n",
      "dtype: object\n"
     ]
    }
   ],
   "source": [
    "print(df.shape,df.columns,df.dtypes,sep='/////')"
   ]
  },
  {
   "cell_type": "code",
   "execution_count": 111,
   "metadata": {},
   "outputs": [
    {
     "data": {
      "text/plain": [
       "TITLE               0\n",
       "RESTAURANT_ID       0\n",
       "CUISINES            0\n",
       "TIME                0\n",
       "CITY              112\n",
       "LOCALITY           98\n",
       "RATING              2\n",
       "VOTES            1204\n",
       "COST                0\n",
       "dtype: int64"
      ]
     },
     "execution_count": 111,
     "metadata": {},
     "output_type": "execute_result"
    }
   ],
   "source": [
    "df.isnull().sum()"
   ]
  },
  {
   "cell_type": "code",
   "execution_count": 112,
   "metadata": {},
   "outputs": [
    {
     "name": "stdout",
     "output_type": "stream",
     "text": [
      "TITLE 113\n",
      "RESTAURANT_ID 11892\n",
      "CUISINES 4155\n",
      "TIME 2689\n",
      "CITY 360\n",
      "LOCALITY 1417\n",
      "RATING 33\n",
      "VOTES 1848\n",
      "COST 86\n"
     ]
    }
   ],
   "source": [
    "for i in df:\n",
    "    print(i,df[i].unique().size)"
   ]
  },
  {
   "cell_type": "code",
   "execution_count": 113,
   "metadata": {},
   "outputs": [],
   "source": [
    "df_n=df.drop(columns=['RESTAURANT_ID'])"
   ]
  },
  {
   "cell_type": "code",
   "execution_count": 114,
   "metadata": {},
   "outputs": [
    {
     "data": {
      "text/html": [
       "<div>\n",
       "<style scoped>\n",
       "    .dataframe tbody tr th:only-of-type {\n",
       "        vertical-align: middle;\n",
       "    }\n",
       "\n",
       "    .dataframe tbody tr th {\n",
       "        vertical-align: top;\n",
       "    }\n",
       "\n",
       "    .dataframe thead th {\n",
       "        text-align: right;\n",
       "    }\n",
       "</style>\n",
       "<table border=\"1\" class=\"dataframe\">\n",
       "  <thead>\n",
       "    <tr style=\"text-align: right;\">\n",
       "      <th></th>\n",
       "      <th>TITLE</th>\n",
       "      <th>CUISINES</th>\n",
       "      <th>TIME</th>\n",
       "      <th>CITY</th>\n",
       "      <th>LOCALITY</th>\n",
       "      <th>RATING</th>\n",
       "      <th>COST</th>\n",
       "    </tr>\n",
       "    <tr>\n",
       "      <th>VOTES</th>\n",
       "      <th></th>\n",
       "      <th></th>\n",
       "      <th></th>\n",
       "      <th></th>\n",
       "      <th></th>\n",
       "      <th></th>\n",
       "      <th></th>\n",
       "    </tr>\n",
       "  </thead>\n",
       "  <tbody>\n",
       "    <tr>\n",
       "      <th>10 votes</th>\n",
       "      <td>CAFÉ</td>\n",
       "      <td>Cafe</td>\n",
       "      <td>10am – 11pm (Mon-Sun)</td>\n",
       "      <td>Kochi</td>\n",
       "      <td>Elamkulam</td>\n",
       "      <td>3.1</td>\n",
       "      <td>400</td>\n",
       "    </tr>\n",
       "    <tr>\n",
       "      <th>100 votes</th>\n",
       "      <td>CASUAL DINING</td>\n",
       "      <td>North Indian, South Indian, Biryani, Chinese</td>\n",
       "      <td>12noon – 11:45pm (Mon, Tue, Wed, Thu, Sun), 12...</td>\n",
       "      <td>Secunderabad</td>\n",
       "      <td>Uppal</td>\n",
       "      <td>3.8</td>\n",
       "      <td>600</td>\n",
       "    </tr>\n",
       "    <tr>\n",
       "      <th>1000 votes</th>\n",
       "      <td>FINE DINING</td>\n",
       "      <td>Continental, North Indian, South Indian, Italian</td>\n",
       "      <td>24 Hours (Mon-Sun)</td>\n",
       "      <td>New Delhi</td>\n",
       "      <td>Khan Market</td>\n",
       "      <td>4.0</td>\n",
       "      <td>3500</td>\n",
       "    </tr>\n",
       "    <tr>\n",
       "      <th>1001 votes</th>\n",
       "      <td>MICROBREWERY,CASUAL DINING</td>\n",
       "      <td>American, Italian, Chinese</td>\n",
       "      <td>12noon – 12midnight (Mon-Sun)</td>\n",
       "      <td>Gurgaon</td>\n",
       "      <td>DLF Cyber City</td>\n",
       "      <td>4.1</td>\n",
       "      <td>1750</td>\n",
       "    </tr>\n",
       "    <tr>\n",
       "      <th>1002 votes</th>\n",
       "      <td>CASUAL DINING</td>\n",
       "      <td>Chinese, Asian, Thai, Vietnamese, Momos</td>\n",
       "      <td>11:30am – 11:30pm (Mon-Sun)</td>\n",
       "      <td>Powai</td>\n",
       "      <td>Hiranandani Gardens</td>\n",
       "      <td>3.9</td>\n",
       "      <td>800</td>\n",
       "    </tr>\n",
       "    <tr>\n",
       "      <th>...</th>\n",
       "      <td>...</td>\n",
       "      <td>...</td>\n",
       "      <td>...</td>\n",
       "      <td>...</td>\n",
       "      <td>...</td>\n",
       "      <td>...</td>\n",
       "      <td>...</td>\n",
       "    </tr>\n",
       "    <tr>\n",
       "      <th>993 votes</th>\n",
       "      <td>BAKERY,QUICK BITES</td>\n",
       "      <td>Bakery, Desserts, Fast Food, Salad</td>\n",
       "      <td>10am – 9:30pm (Mon-Sun)</td>\n",
       "      <td>New Delhi</td>\n",
       "      <td>Kailash Colony</td>\n",
       "      <td>4.2</td>\n",
       "      <td>300</td>\n",
       "    </tr>\n",
       "    <tr>\n",
       "      <th>996 votes</th>\n",
       "      <td>CASUAL DINING,BAR</td>\n",
       "      <td>Goan, Mangalorean, Pizza</td>\n",
       "      <td>12noon – 11pm (Mon, Tue, Wed, Thu, Sun), 12noo...</td>\n",
       "      <td>Bangalore</td>\n",
       "      <td>Ulsoor</td>\n",
       "      <td>4.2</td>\n",
       "      <td>1000</td>\n",
       "    </tr>\n",
       "    <tr>\n",
       "      <th>997 votes</th>\n",
       "      <td>CASUAL DINING,BAR</td>\n",
       "      <td>South Indian, North Indian, Chinese, Biryani, BBQ</td>\n",
       "      <td>12noon – 11:30pm (Mon, Tue, Wed, Thu, Sun), 12...</td>\n",
       "      <td>Jubilee Hills</td>\n",
       "      <td>near Andhra Prabha office</td>\n",
       "      <td>4.1</td>\n",
       "      <td>1200</td>\n",
       "    </tr>\n",
       "    <tr>\n",
       "      <th>998 votes</th>\n",
       "      <td>CLUB</td>\n",
       "      <td>Finger Food, Italian</td>\n",
       "      <td>Closed (Mon),7pm – 1am (Tue),10pm – 1am (Wed-Sun)</td>\n",
       "      <td>New Delhi</td>\n",
       "      <td>Barakhamba Road</td>\n",
       "      <td>3.9</td>\n",
       "      <td>5000</td>\n",
       "    </tr>\n",
       "    <tr>\n",
       "      <th>999 votes</th>\n",
       "      <td>CASUAL DINING</td>\n",
       "      <td>Mediterranean, Continental</td>\n",
       "      <td>8am – 11:30pm (Mon, Tue, Wed, Thu, Sat, Sun)...</td>\n",
       "      <td>Gurgaon</td>\n",
       "      <td>DLF Phase 4</td>\n",
       "      <td>4.1</td>\n",
       "      <td>1500</td>\n",
       "    </tr>\n",
       "  </tbody>\n",
       "</table>\n",
       "<p>1847 rows × 7 columns</p>\n",
       "</div>"
      ],
      "text/plain": [
       "                                 TITLE  \\\n",
       "VOTES                                    \n",
       "10 votes                          CAFÉ   \n",
       "100 votes                CASUAL DINING   \n",
       "1000 votes                 FINE DINING   \n",
       "1001 votes  MICROBREWERY,CASUAL DINING   \n",
       "1002 votes               CASUAL DINING   \n",
       "...                                ...   \n",
       "993 votes           BAKERY,QUICK BITES   \n",
       "996 votes            CASUAL DINING,BAR   \n",
       "997 votes            CASUAL DINING,BAR   \n",
       "998 votes                         CLUB   \n",
       "999 votes                CASUAL DINING   \n",
       "\n",
       "                                                     CUISINES  \\\n",
       "VOTES                                                           \n",
       "10 votes                                                 Cafe   \n",
       "100 votes        North Indian, South Indian, Biryani, Chinese   \n",
       "1000 votes   Continental, North Indian, South Indian, Italian   \n",
       "1001 votes                         American, Italian, Chinese   \n",
       "1002 votes            Chinese, Asian, Thai, Vietnamese, Momos   \n",
       "...                                                       ...   \n",
       "993 votes                  Bakery, Desserts, Fast Food, Salad   \n",
       "996 votes                            Goan, Mangalorean, Pizza   \n",
       "997 votes   South Indian, North Indian, Chinese, Biryani, BBQ   \n",
       "998 votes                                Finger Food, Italian   \n",
       "999 votes                          Mediterranean, Continental   \n",
       "\n",
       "                                                         TIME           CITY  \\\n",
       "VOTES                                                                          \n",
       "10 votes                                10am – 11pm (Mon-Sun)          Kochi   \n",
       "100 votes   12noon – 11:45pm (Mon, Tue, Wed, Thu, Sun), 12...   Secunderabad   \n",
       "1000 votes                                 24 Hours (Mon-Sun)      New Delhi   \n",
       "1001 votes                      12noon – 12midnight (Mon-Sun)        Gurgaon   \n",
       "1002 votes                        11:30am – 11:30pm (Mon-Sun)          Powai   \n",
       "...                                                       ...            ...   \n",
       "993 votes                             10am – 9:30pm (Mon-Sun)      New Delhi   \n",
       "996 votes   12noon – 11pm (Mon, Tue, Wed, Thu, Sun), 12noo...      Bangalore   \n",
       "997 votes   12noon – 11:30pm (Mon, Tue, Wed, Thu, Sun), 12...  Jubilee Hills   \n",
       "998 votes   Closed (Mon),7pm – 1am (Tue),10pm – 1am (Wed-Sun)      New Delhi   \n",
       "999 votes     8am – 11:30pm (Mon, Tue, Wed, Thu, Sat, Sun)...        Gurgaon   \n",
       "\n",
       "                             LOCALITY RATING  COST  \n",
       "VOTES                                               \n",
       "10 votes                    Elamkulam    3.1   400  \n",
       "100 votes                       Uppal    3.8   600  \n",
       "1000 votes                Khan Market    4.0  3500  \n",
       "1001 votes             DLF Cyber City    4.1  1750  \n",
       "1002 votes        Hiranandani Gardens    3.9   800  \n",
       "...                               ...    ...   ...  \n",
       "993 votes              Kailash Colony    4.2   300  \n",
       "996 votes                      Ulsoor    4.2  1000  \n",
       "997 votes   near Andhra Prabha office    4.1  1200  \n",
       "998 votes             Barakhamba Road    3.9  5000  \n",
       "999 votes                 DLF Phase 4    4.1  1500  \n",
       "\n",
       "[1847 rows x 7 columns]"
      ]
     },
     "execution_count": 114,
     "metadata": {},
     "output_type": "execute_result"
    }
   ],
   "source": [
    "a=df_n.groupby('VOTES')\n",
    "a.first()"
   ]
  },
  {
   "cell_type": "code",
   "execution_count": 115,
   "metadata": {},
   "outputs": [],
   "source": [
    "df_n['VOTES']=df_n['VOTES'].str.strip('votes')"
   ]
  },
  {
   "cell_type": "code",
   "execution_count": 116,
   "metadata": {},
   "outputs": [],
   "source": [
    "df_n['VOTES']=df_n['VOTES'].astype(float)"
   ]
  },
  {
   "cell_type": "code",
   "execution_count": 117,
   "metadata": {},
   "outputs": [
    {
     "name": "stdout",
     "output_type": "stream",
     "text": [
      "['3.6' '4.2' '3.8' '4.1' '4.0' '4.3' '3.9' '3.3' '3.4' '-' '4.5' '3.5'\n",
      " '4.4' '2.7' '3.7' '4.7' 'NEW' '3.1' '2.5' '4.6' '2.8' nan '3.0' '3.2'\n",
      " '2.6' '2.9' '4.9' '4.8' '2.4' '2.3' '2.0' '2.1' '2.2']\n"
     ]
    }
   ],
   "source": [
    "print(df_n['RATING'].unique())\n",
    "df_n['RATING']=df_n['RATING'].dropna(inplace=False)"
   ]
  },
  {
   "cell_type": "code",
   "execution_count": 118,
   "metadata": {},
   "outputs": [
    {
     "data": {
      "text/plain": [
       "(12690, 8)"
      ]
     },
     "execution_count": 118,
     "metadata": {},
     "output_type": "execute_result"
    }
   ],
   "source": [
    "df_n.shape"
   ]
  },
  {
   "cell_type": "code",
   "execution_count": 119,
   "metadata": {},
   "outputs": [
    {
     "data": {
      "text/plain": [
       "TITLE          0\n",
       "CUISINES       0\n",
       "TIME           0\n",
       "CITY         112\n",
       "LOCALITY      98\n",
       "RATING         2\n",
       "VOTES       1204\n",
       "COST           0\n",
       "dtype: int64"
      ]
     },
     "execution_count": 119,
     "metadata": {},
     "output_type": "execute_result"
    }
   ],
   "source": [
    "df_n.isnull().sum()"
   ]
  },
  {
   "cell_type": "code",
   "execution_count": 120,
   "metadata": {},
   "outputs": [
    {
     "data": {
      "text/plain": [
       "TITLE        object\n",
       "CUISINES     object\n",
       "TIME         object\n",
       "CITY         object\n",
       "LOCALITY     object\n",
       "RATING       object\n",
       "VOTES       float64\n",
       "COST          int64\n",
       "dtype: object"
      ]
     },
     "execution_count": 120,
     "metadata": {},
     "output_type": "execute_result"
    }
   ],
   "source": [
    "df_n.dtypes"
   ]
  }
 ],
 "metadata": {
  "kernelspec": {
   "display_name": "Python 3",
   "language": "python",
   "name": "python3"
  },
  "language_info": {
   "codemirror_mode": {
    "name": "ipython",
    "version": 3
   },
   "file_extension": ".py",
   "mimetype": "text/x-python",
   "name": "python",
   "nbconvert_exporter": "python",
   "pygments_lexer": "ipython3",
   "version": "3.7.5"
  }
 },
 "nbformat": 4,
 "nbformat_minor": 2
}
